{
 "cells": [
  {
   "cell_type": "markdown",
   "metadata": {},
   "source": [
    "# Deep Q-Learning para _lunar lander_\n",
    "\n",
    "[**Juan Gómez Romero**](https://decsai.ugr.es/~jgomez)  \n",
    "Departamento de Ciencias de la Computación e Inteligencia Artificial  \n",
    "Universidad de Granada  \n",
    "This work is licensed under the [GNU General Public License v3.0](https://choosealicense.com/licenses/gpl-3.0/).\n",
    "\n",
    "---\n",
    "Ejemplo basado en:\n",
    "> Udacity (2019) Deep Reinforcement Learning Course. Disponible en [GitHub](https://github.com/udacity/deep-reinforcement-learning/tree/master/dqn)."
   ]
  },
  {
   "cell_type": "markdown",
   "metadata": {},
   "source": [
    "Comprobar si está ejecutando en Google Colaboratory."
   ]
  },
  {
   "cell_type": "markdown",
   "metadata": {},
   "source": [
    "## Explorar entorno virtual\n",
    "\n",
    "En este ejercicio utilizamos el entorno virtual [LunarLander-v2](https://gym.openai.com/envs/LunarLander-v2/) de [OpenAI](https://openai.com). \n",
    "\n",
    "![](https://github.com/jgromero/eci2019-DRL/blob/master/Tema%204%20-%20Aprendizaje%20Profundo%20por%20Refuerzo/code/dqn/lunarlander.gif?raw=true)\n",
    "\n",
    "En primer lugar, vamos a explorar cómo funciona este entorno."
   ]
  },
  {
   "cell_type": "code",
   "execution_count": 1,
   "metadata": {},
   "outputs": [
    {
     "name": "stderr",
     "output_type": "stream",
     "text": [
      "/home/luciano/anaconda3/envs/football/lib/python3.7/site-packages/tensorflow/python/framework/dtypes.py:516: FutureWarning: Passing (type, 1) or '1type' as a synonym of type is deprecated; in a future version of numpy, it will be understood as (type, (1,)) / '(1,)type'.\n",
      "  _np_qint8 = np.dtype([(\"qint8\", np.int8, 1)])\n",
      "/home/luciano/anaconda3/envs/football/lib/python3.7/site-packages/tensorflow/python/framework/dtypes.py:517: FutureWarning: Passing (type, 1) or '1type' as a synonym of type is deprecated; in a future version of numpy, it will be understood as (type, (1,)) / '(1,)type'.\n",
      "  _np_quint8 = np.dtype([(\"quint8\", np.uint8, 1)])\n",
      "/home/luciano/anaconda3/envs/football/lib/python3.7/site-packages/tensorflow/python/framework/dtypes.py:518: FutureWarning: Passing (type, 1) or '1type' as a synonym of type is deprecated; in a future version of numpy, it will be understood as (type, (1,)) / '(1,)type'.\n",
      "  _np_qint16 = np.dtype([(\"qint16\", np.int16, 1)])\n",
      "/home/luciano/anaconda3/envs/football/lib/python3.7/site-packages/tensorflow/python/framework/dtypes.py:519: FutureWarning: Passing (type, 1) or '1type' as a synonym of type is deprecated; in a future version of numpy, it will be understood as (type, (1,)) / '(1,)type'.\n",
      "  _np_quint16 = np.dtype([(\"quint16\", np.uint16, 1)])\n",
      "/home/luciano/anaconda3/envs/football/lib/python3.7/site-packages/tensorflow/python/framework/dtypes.py:520: FutureWarning: Passing (type, 1) or '1type' as a synonym of type is deprecated; in a future version of numpy, it will be understood as (type, (1,)) / '(1,)type'.\n",
      "  _np_qint32 = np.dtype([(\"qint32\", np.int32, 1)])\n",
      "/home/luciano/anaconda3/envs/football/lib/python3.7/site-packages/tensorflow/python/framework/dtypes.py:525: FutureWarning: Passing (type, 1) or '1type' as a synonym of type is deprecated; in a future version of numpy, it will be understood as (type, (1,)) / '(1,)type'.\n",
      "  np_resource = np.dtype([(\"resource\", np.ubyte, 1)])\n",
      "/home/luciano/anaconda3/envs/football/lib/python3.7/site-packages/tensorboard/compat/tensorflow_stub/dtypes.py:541: FutureWarning: Passing (type, 1) or '1type' as a synonym of type is deprecated; in a future version of numpy, it will be understood as (type, (1,)) / '(1,)type'.\n",
      "  _np_qint8 = np.dtype([(\"qint8\", np.int8, 1)])\n",
      "/home/luciano/anaconda3/envs/football/lib/python3.7/site-packages/tensorboard/compat/tensorflow_stub/dtypes.py:542: FutureWarning: Passing (type, 1) or '1type' as a synonym of type is deprecated; in a future version of numpy, it will be understood as (type, (1,)) / '(1,)type'.\n",
      "  _np_quint8 = np.dtype([(\"quint8\", np.uint8, 1)])\n",
      "/home/luciano/anaconda3/envs/football/lib/python3.7/site-packages/tensorboard/compat/tensorflow_stub/dtypes.py:543: FutureWarning: Passing (type, 1) or '1type' as a synonym of type is deprecated; in a future version of numpy, it will be understood as (type, (1,)) / '(1,)type'.\n",
      "  _np_qint16 = np.dtype([(\"qint16\", np.int16, 1)])\n",
      "/home/luciano/anaconda3/envs/football/lib/python3.7/site-packages/tensorboard/compat/tensorflow_stub/dtypes.py:544: FutureWarning: Passing (type, 1) or '1type' as a synonym of type is deprecated; in a future version of numpy, it will be understood as (type, (1,)) / '(1,)type'.\n",
      "  _np_quint16 = np.dtype([(\"quint16\", np.uint16, 1)])\n",
      "/home/luciano/anaconda3/envs/football/lib/python3.7/site-packages/tensorboard/compat/tensorflow_stub/dtypes.py:545: FutureWarning: Passing (type, 1) or '1type' as a synonym of type is deprecated; in a future version of numpy, it will be understood as (type, (1,)) / '(1,)type'.\n",
      "  _np_qint32 = np.dtype([(\"qint32\", np.int32, 1)])\n",
      "/home/luciano/anaconda3/envs/football/lib/python3.7/site-packages/tensorboard/compat/tensorflow_stub/dtypes.py:550: FutureWarning: Passing (type, 1) or '1type' as a synonym of type is deprecated; in a future version of numpy, it will be understood as (type, (1,)) / '(1,)type'.\n",
      "  np_resource = np.dtype([(\"resource\", np.ubyte, 1)])\n"
     ]
    }
   ],
   "source": [
    "import gfootball.env as football_env\n",
    "from dqn_agent_simultaneous_update import Agent\n",
    "from gfootball.env import football_action_set\n",
    "\n",
    "env = football_env.create_environment(\n",
    "    env_name='academy_run_to_score_with_keeper', \n",
    "    stacked=False,                           # solo estado, no pixeles \n",
    "    representation='simple115',              # solo estado, no pixeles \n",
    "    rewards='scoring,checkpoints',           # recompensas intermedias, no solo al marcar Currently supported rewards are 'scoring' and 'checkpoints'.\n",
    "    render=True)                            # mostrar graficamente\n",
    "\n",
    "agent = Agent(state_size=115, action_size=21, seed=0)"
   ]
  },
  {
   "cell_type": "markdown",
   "metadata": {},
   "source": [
    "## Algoritmo\n",
    "A continuación se proporciona una implementación genérica del algoritmo Deep Q-Learning (DQN) y su aplicación a [LunarLander-v2](https://gym.openai.com/envs/LunarLander-v2/).\n",
    "\n",
    "Se considera que el entorno [LunarLander-v2](https://gym.openai.com/envs/LunarLander-v2/) está resuelto cuando se obtienen más de $200$ puntos de media durante 100 episodios consecutivos."
   ]
  },
  {
   "cell_type": "code",
   "execution_count": 2,
   "metadata": {},
   "outputs": [],
   "source": [
    "import logging, os\n",
    "#logging.disable(logging.WARNING)"
   ]
  },
  {
   "cell_type": "code",
   "execution_count": 3,
   "metadata": {},
   "outputs": [],
   "source": [
    "import gym\n",
    "import random\n",
    "import torch\n",
    "import numpy as np\n",
    "from collections import deque\n",
    "import matplotlib.pyplot as plt\n",
    "%matplotlib inline"
   ]
  },
  {
   "cell_type": "markdown",
   "metadata": {},
   "source": [
    "### Visualizar agente entrenado\n",
    "\n",
    "Podemos visualizar el comportamiento del agente entrenado cargando los pesos del fichero donde se han almacenado. (Solo en entorno local, no en Google Collaboratory.)"
   ]
  },
  {
   "cell_type": "code",
   "execution_count": 4,
   "metadata": {},
   "outputs": [
    {
     "name": "stderr",
     "output_type": "stream",
     "text": [
      "WARNING: Logging before flag parsing goes to stderr.\n",
      "I0819 19:01:10.146096 140450344777536 observation_processor.py:350] Dump \"lost_score\": count limit reached / disabled\n",
      "I0819 19:01:10.148620 140450344777536 observation_processor.py:350] Dump \"episode_done\": count limit reached / disabled\n",
      "I0819 19:01:10.149393 140450344777536 football_env_wrapper.py:84] Episode reward: -1.00 score: [0, 1], steps: 45, FPS: 3.7, gameFPS: 37.3\n",
      "I0819 19:01:12.982569 140450344777536 observation_processor.py:350] Dump \"lost_score\": count limit reached / disabled\n",
      "I0819 19:01:12.983698 140450344777536 observation_processor.py:350] Dump \"episode_done\": count limit reached / disabled\n",
      "I0819 19:01:12.984191 140450344777536 football_env_wrapper.py:84] Episode reward: -1.00 score: [0, 1], steps: 44, FPS: 15.5, gameFPS: 29.8\n",
      "I0819 19:01:16.085605 140450344777536 observation_processor.py:350] Dump \"lost_score\": count limit reached / disabled\n",
      "I0819 19:01:16.086936 140450344777536 observation_processor.py:350] Dump \"episode_done\": count limit reached / disabled\n",
      "I0819 19:01:16.087438 140450344777536 football_env_wrapper.py:84] Episode reward: -1.00 score: [0, 1], steps: 51, FPS: 16.5, gameFPS: 29.7\n",
      "I0819 19:01:20.156859 140450344777536 observation_processor.py:350] Dump \"episode_done\": count limit reached / disabled\n",
      "I0819 19:01:20.157433 140450344777536 football_env_wrapper.py:84] Episode reward: 0.00 score: [0, 0], steps: 51, FPS: 12.5, gameFPS: 19.3\n",
      "I0819 19:01:23.326242 140450344777536 observation_processor.py:350] Dump \"lost_score\": count limit reached / disabled\n",
      "I0819 19:01:23.327413 140450344777536 observation_processor.py:350] Dump \"episode_done\": count limit reached / disabled\n",
      "I0819 19:01:23.328639 140450344777536 football_env_wrapper.py:84] Episode reward: -1.00 score: [0, 1], steps: 52, FPS: 16.4, gameFPS: 30.2\n",
      "I0819 19:01:26.229174 140450344777536 observation_processor.py:350] Dump \"lost_score\": count limit reached / disabled\n",
      "I0819 19:01:26.230504 140450344777536 observation_processor.py:350] Dump \"episode_done\": count limit reached / disabled\n",
      "I0819 19:01:26.231164 140450344777536 football_env_wrapper.py:84] Episode reward: -1.00 score: [0, 1], steps: 46, FPS: 15.9, gameFPS: 29.6\n",
      "I0819 19:01:29.065346 140450344777536 observation_processor.py:350] Dump \"lost_score\": count limit reached / disabled\n",
      "I0819 19:01:29.066404 140450344777536 observation_processor.py:350] Dump \"episode_done\": count limit reached / disabled\n",
      "I0819 19:01:29.066876 140450344777536 football_env_wrapper.py:84] Episode reward: -1.00 score: [0, 1], steps: 44, FPS: 15.5, gameFPS: 28.5\n",
      "I0819 19:01:33.272659 140450344777536 observation_processor.py:350] Dump \"episode_done\": count limit reached / disabled\n",
      "I0819 19:01:33.273272 140450344777536 football_env_wrapper.py:84] Episode reward: 0.00 score: [0, 0], steps: 52, FPS: 12.4, gameFPS: 19.4\n",
      "I0819 19:01:42.247634 140450344777536 observation_processor.py:350] Dump \"episode_done\": count limit reached / disabled\n",
      "I0819 19:01:42.248217 140450344777536 football_env_wrapper.py:84] Episode reward: 0.00 score: [0, 0], steps: 217, FPS: 24.2, gameFPS: 33.0\n",
      "I0819 19:01:45.450947 140450344777536 observation_processor.py:350] Dump \"lost_score\": count limit reached / disabled\n",
      "I0819 19:01:45.452091 140450344777536 observation_processor.py:350] Dump \"episode_done\": count limit reached / disabled\n",
      "I0819 19:01:45.452713 140450344777536 football_env_wrapper.py:84] Episode reward: -1.00 score: [0, 1], steps: 46, FPS: 14.4, gameFPS: 24.8\n"
     ]
    }
   ],
   "source": [
    "# cargar pesos del fichero `checkpoint.pth`\n",
    "agent.qnetwork_local.load_state_dict(torch.load('checkpoint.pth'))\n",
    "\n",
    "for i in range(10):\n",
    "    state = env.reset()\n",
    "    for j in range(1000):\n",
    "        action = agent.act(state)\n",
    "        state, reward, done, _ = env.step(action)\n",
    "        if done:\n",
    "            break \n",
    "            \n",
    "env.close()"
   ]
  },
  {
   "cell_type": "code",
   "execution_count": null,
   "metadata": {},
   "outputs": [],
   "source": []
  }
 ],
 "metadata": {
  "kernelspec": {
   "display_name": "Python 3",
   "language": "python",
   "name": "python3"
  },
  "language_info": {
   "codemirror_mode": {
    "name": "ipython",
    "version": 3
   },
   "file_extension": ".py",
   "mimetype": "text/x-python",
   "name": "python",
   "nbconvert_exporter": "python",
   "pygments_lexer": "ipython3",
   "version": "3.7.4"
  }
 },
 "nbformat": 4,
 "nbformat_minor": 4
}
