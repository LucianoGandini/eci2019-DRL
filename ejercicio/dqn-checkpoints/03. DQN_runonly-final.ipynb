{
 "cells": [
  {
   "cell_type": "markdown",
   "metadata": {},
   "source": [
    "# Deep Q-Learning para _footbal_ rendering de agente entrenado\n",
    "\n",
    "Se provee esta notebook para visualizar el agente entrenado previamente cargando los pesos del fichero donde se han almacenado."
   ]
  },
  {
   "cell_type": "code",
   "execution_count": null,
   "metadata": {},
   "outputs": [],
   "source": [
    "import gfootball.env as football_env\n",
    "from dqn_agent_simultaneous_update import Agent\n",
    "from gfootball.env import football_action_set\n",
    "\n",
    "env = football_env.create_environment(\n",
    "    env_name='academy_empty_goal_close', \n",
    "    stacked=False,                           # solo estado, no pixeles \n",
    "    representation='simple115',              # solo estado, no pixeles \n",
    "    rewards='scoring,checkpoints',           # con recompensas intermedias .\n",
    "    render=True)                            # mostrar graficamente\n",
    "\n",
    "agent = Agent(state_size=115, action_size=21, seed=0)"
   ]
  },
  {
   "cell_type": "code",
   "execution_count": 2,
   "metadata": {},
   "outputs": [],
   "source": [
    "import gym\n",
    "import random\n",
    "import torch\n",
    "import numpy as np\n",
    "from collections import deque\n",
    "import matplotlib.pyplot as plt\n",
    "%matplotlib inline"
   ]
  },
  {
   "cell_type": "code",
   "execution_count": null,
   "metadata": {},
   "outputs": [
    {
     "name": "stderr",
     "output_type": "stream",
     "text": [
      "WARNING: Logging before flag parsing goes to stderr.\n",
      "I0819 19:52:24.383294 140028525741888 observation_processor.py:350] Dump \"score\": count limit reached / disabled\n",
      "I0819 19:52:24.384735 140028525741888 observation_processor.py:350] Dump \"episode_done\": count limit reached / disabled\n",
      "I0819 19:52:24.388052 140028525741888 football_env_wrapper.py:84] Episode reward: 1.00 score: [1, 0], steps: 14, FPS: 1.2, gameFPS: 20.6\n",
      "I0819 19:52:26.185250 140028525741888 observation_processor.py:350] Dump \"score\": count limit reached / disabled\n",
      "I0819 19:52:26.186388 140028525741888 observation_processor.py:350] Dump \"episode_done\": count limit reached / disabled\n",
      "I0819 19:52:26.186830 140028525741888 football_env_wrapper.py:84] Episode reward: 1.00 score: [1, 0], steps: 13, FPS: 7.2, gameFPS: 19.3\n",
      "I0819 19:52:28.087016 140028525741888 observation_processor.py:350] Dump \"score\": count limit reached / disabled\n",
      "I0819 19:52:28.088186 140028525741888 observation_processor.py:350] Dump \"episode_done\": count limit reached / disabled\n",
      "I0819 19:52:28.088624 140028525741888 football_env_wrapper.py:84] Episode reward: 1.00 score: [1, 0], steps: 14, FPS: 7.4, gameFPS: 20.3\n",
      "I0819 19:52:29.922156 140028525741888 observation_processor.py:350] Dump \"score\": count limit reached / disabled\n",
      "I0819 19:52:29.923267 140028525741888 observation_processor.py:350] Dump \"episode_done\": count limit reached / disabled\n",
      "I0819 19:52:29.923951 140028525741888 football_env_wrapper.py:84] Episode reward: 1.00 score: [1, 0], steps: 14, FPS: 7.6, gameFPS: 20.0\n",
      "I0819 19:52:31.957962 140028525741888 observation_processor.py:350] Dump \"score\": count limit reached / disabled\n",
      "I0819 19:52:31.959137 140028525741888 observation_processor.py:350] Dump \"episode_done\": count limit reached / disabled\n",
      "I0819 19:52:31.960161 140028525741888 football_env_wrapper.py:84] Episode reward: 1.00 score: [1, 0], steps: 14, FPS: 6.9, gameFPS: 15.7\n"
     ]
    }
   ],
   "source": [
    "# cargar pesos del fichero `checkpoint.pth`\n",
    "agent.qnetwork_local.load_state_dict(torch.load('checkpoint-final.pth'))\n",
    "\n",
    "for i in range(10):\n",
    "    state = env.reset()\n",
    "    for j in range(200):\n",
    "        action = agent.act(state)\n",
    "        state, reward, done, _ = env.step(action)\n",
    "        if done:\n",
    "            break \n",
    "            \n",
    "env.close()"
   ]
  }
 ],
 "metadata": {
  "kernelspec": {
   "display_name": "Python 3",
   "language": "python",
   "name": "python3"
  },
  "language_info": {
   "codemirror_mode": {
    "name": "ipython",
    "version": 3
   },
   "file_extension": ".py",
   "mimetype": "text/x-python",
   "name": "python",
   "nbconvert_exporter": "python",
   "pygments_lexer": "ipython3",
   "version": "3.7.4"
  }
 },
 "nbformat": 4,
 "nbformat_minor": 4
}
