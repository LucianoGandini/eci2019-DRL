{
 "cells": [
  {
   "cell_type": "markdown",
   "metadata": {},
   "source": [
    "# Deep Q-Learning para _footbal_ rendering de agente entrenado\n",
    "\n",
    "Se provee esta notebook para visualizar el agente entrenado previamente cargando los pesos del fichero donde se han almacenado."
   ]
  },
  {
   "cell_type": "code",
   "execution_count": 1,
   "metadata": {},
   "outputs": [
    {
     "name": "stderr",
     "output_type": "stream",
     "text": [
      "/home/luciano/anaconda3/envs/football/lib/python3.7/site-packages/tensorflow/python/framework/dtypes.py:516: FutureWarning: Passing (type, 1) or '1type' as a synonym of type is deprecated; in a future version of numpy, it will be understood as (type, (1,)) / '(1,)type'.\n",
      "  _np_qint8 = np.dtype([(\"qint8\", np.int8, 1)])\n",
      "/home/luciano/anaconda3/envs/football/lib/python3.7/site-packages/tensorflow/python/framework/dtypes.py:517: FutureWarning: Passing (type, 1) or '1type' as a synonym of type is deprecated; in a future version of numpy, it will be understood as (type, (1,)) / '(1,)type'.\n",
      "  _np_quint8 = np.dtype([(\"quint8\", np.uint8, 1)])\n",
      "/home/luciano/anaconda3/envs/football/lib/python3.7/site-packages/tensorflow/python/framework/dtypes.py:518: FutureWarning: Passing (type, 1) or '1type' as a synonym of type is deprecated; in a future version of numpy, it will be understood as (type, (1,)) / '(1,)type'.\n",
      "  _np_qint16 = np.dtype([(\"qint16\", np.int16, 1)])\n",
      "/home/luciano/anaconda3/envs/football/lib/python3.7/site-packages/tensorflow/python/framework/dtypes.py:519: FutureWarning: Passing (type, 1) or '1type' as a synonym of type is deprecated; in a future version of numpy, it will be understood as (type, (1,)) / '(1,)type'.\n",
      "  _np_quint16 = np.dtype([(\"quint16\", np.uint16, 1)])\n",
      "/home/luciano/anaconda3/envs/football/lib/python3.7/site-packages/tensorflow/python/framework/dtypes.py:520: FutureWarning: Passing (type, 1) or '1type' as a synonym of type is deprecated; in a future version of numpy, it will be understood as (type, (1,)) / '(1,)type'.\n",
      "  _np_qint32 = np.dtype([(\"qint32\", np.int32, 1)])\n",
      "/home/luciano/anaconda3/envs/football/lib/python3.7/site-packages/tensorflow/python/framework/dtypes.py:525: FutureWarning: Passing (type, 1) or '1type' as a synonym of type is deprecated; in a future version of numpy, it will be understood as (type, (1,)) / '(1,)type'.\n",
      "  np_resource = np.dtype([(\"resource\", np.ubyte, 1)])\n",
      "/home/luciano/anaconda3/envs/football/lib/python3.7/site-packages/tensorboard/compat/tensorflow_stub/dtypes.py:541: FutureWarning: Passing (type, 1) or '1type' as a synonym of type is deprecated; in a future version of numpy, it will be understood as (type, (1,)) / '(1,)type'.\n",
      "  _np_qint8 = np.dtype([(\"qint8\", np.int8, 1)])\n",
      "/home/luciano/anaconda3/envs/football/lib/python3.7/site-packages/tensorboard/compat/tensorflow_stub/dtypes.py:542: FutureWarning: Passing (type, 1) or '1type' as a synonym of type is deprecated; in a future version of numpy, it will be understood as (type, (1,)) / '(1,)type'.\n",
      "  _np_quint8 = np.dtype([(\"quint8\", np.uint8, 1)])\n",
      "/home/luciano/anaconda3/envs/football/lib/python3.7/site-packages/tensorboard/compat/tensorflow_stub/dtypes.py:543: FutureWarning: Passing (type, 1) or '1type' as a synonym of type is deprecated; in a future version of numpy, it will be understood as (type, (1,)) / '(1,)type'.\n",
      "  _np_qint16 = np.dtype([(\"qint16\", np.int16, 1)])\n",
      "/home/luciano/anaconda3/envs/football/lib/python3.7/site-packages/tensorboard/compat/tensorflow_stub/dtypes.py:544: FutureWarning: Passing (type, 1) or '1type' as a synonym of type is deprecated; in a future version of numpy, it will be understood as (type, (1,)) / '(1,)type'.\n",
      "  _np_quint16 = np.dtype([(\"quint16\", np.uint16, 1)])\n",
      "/home/luciano/anaconda3/envs/football/lib/python3.7/site-packages/tensorboard/compat/tensorflow_stub/dtypes.py:545: FutureWarning: Passing (type, 1) or '1type' as a synonym of type is deprecated; in a future version of numpy, it will be understood as (type, (1,)) / '(1,)type'.\n",
      "  _np_qint32 = np.dtype([(\"qint32\", np.int32, 1)])\n",
      "/home/luciano/anaconda3/envs/football/lib/python3.7/site-packages/tensorboard/compat/tensorflow_stub/dtypes.py:550: FutureWarning: Passing (type, 1) or '1type' as a synonym of type is deprecated; in a future version of numpy, it will be understood as (type, (1,)) / '(1,)type'.\n",
      "  np_resource = np.dtype([(\"resource\", np.ubyte, 1)])\n"
     ]
    }
   ],
   "source": [
    "import gfootball.env as football_env\n",
    "from dqn_agent_simultaneous_update import Agent\n",
    "from gfootball.env import football_action_set\n",
    "\n",
    "env = football_env.create_environment(\n",
    "    env_name='academy_run_to_score', \n",
    "    stacked=False,                           # solo estado, no pixeles \n",
    "    representation='simple115',              # solo estado, no pixeles \n",
    "    rewards='scoring,checkpoints',           # con recompensas intermedias.\n",
    "    render=True)                            # mostrar graficamente\n",
    "\n",
    "agent = Agent(state_size=115, action_size=21, seed=0)"
   ]
  },
  {
   "cell_type": "code",
   "execution_count": 2,
   "metadata": {},
   "outputs": [],
   "source": [
    "import gym\n",
    "import random\n",
    "import torch\n",
    "import numpy as np\n",
    "from collections import deque\n",
    "import matplotlib.pyplot as plt\n",
    "%matplotlib inline"
   ]
  },
  {
   "cell_type": "code",
   "execution_count": 3,
   "metadata": {},
   "outputs": [
    {
     "name": "stderr",
     "output_type": "stream",
     "text": [
      "WARNING: Logging before flag parsing goes to stderr.\n",
      "I0819 20:16:35.483123 140524514965312 observation_processor.py:350] Dump \"episode_done\": count limit reached / disabled\n",
      "I0819 20:16:35.483798 140524514965312 football_env_wrapper.py:84] Episode reward: 0.00 score: [0, 0], steps: 13, FPS: 1.2, gameFPS: 33.8\n",
      "I0819 20:16:39.253213 140524514965312 observation_processor.py:350] Dump \"score\": count limit reached / disabled\n",
      "I0819 20:16:39.254619 140524514965312 observation_processor.py:350] Dump \"episode_done\": count limit reached / disabled\n",
      "I0819 20:16:39.255136 140524514965312 football_env_wrapper.py:84] Episode reward: 1.00 score: [1, 0], steps: 63, FPS: 16.7, gameFPS: 26.4\n",
      "I0819 20:16:43.290587 140524514965312 observation_processor.py:350] Dump \"score\": count limit reached / disabled\n",
      "I0819 20:16:43.291597 140524514965312 observation_processor.py:350] Dump \"episode_done\": count limit reached / disabled\n",
      "I0819 20:16:43.293035 140524514965312 football_env_wrapper.py:84] Episode reward: 1.00 score: [1, 0], steps: 73, FPS: 18.1, gameFPS: 28.3\n",
      "I0819 20:16:45.992981 140524514965312 observation_processor.py:350] Dump \"score\": count limit reached / disabled\n",
      "I0819 20:16:45.994055 140524514965312 observation_processor.py:350] Dump \"episode_done\": count limit reached / disabled\n",
      "I0819 20:16:45.994490 140524514965312 football_env_wrapper.py:84] Episode reward: 1.00 score: [1, 0], steps: 34, FPS: 12.6, gameFPS: 23.9\n",
      "I0819 20:16:47.695417 140524514965312 observation_processor.py:350] Dump \"episode_done\": count limit reached / disabled\n",
      "I0819 20:16:47.696068 140524514965312 football_env_wrapper.py:84] Episode reward: 0.00 score: [0, 0], steps: 19, FPS: 11.2, gameFPS: 31.8\n",
      "I0819 20:16:51.566025 140524514965312 observation_processor.py:350] Dump \"episode_done\": count limit reached / disabled\n",
      "I0819 20:16:51.566611 140524514965312 football_env_wrapper.py:84] Episode reward: 0.00 score: [0, 0], steps: 37, FPS: 9.6, gameFPS: 14.7\n",
      "I0819 20:16:56.537752 140524514965312 observation_processor.py:350] Dump \"episode_done\": count limit reached / disabled\n",
      "I0819 20:16:56.538374 140524514965312 football_env_wrapper.py:84] Episode reward: 0.00 score: [0, 0], steps: 116, FPS: 23.3, gameFPS: 33.0\n",
      "I0819 20:17:01.545169 140524514965312 observation_processor.py:350] Dump \"episode_done\": count limit reached / disabled\n",
      "I0819 20:17:01.545658 140524514965312 football_env_wrapper.py:84] Episode reward: 0.00 score: [0, 0], steps: 78, FPS: 15.6, gameFPS: 21.4\n",
      "I0819 20:17:06.616914 140524514965312 observation_processor.py:350] Dump \"episode_done\": count limit reached / disabled\n",
      "I0819 20:17:06.617411 140524514965312 football_env_wrapper.py:84] Episode reward: 0.00 score: [0, 0], steps: 79, FPS: 15.6, gameFPS: 21.5\n",
      "I0819 20:17:08.351358 140524514965312 observation_processor.py:350] Dump \"episode_done\": count limit reached / disabled\n",
      "I0819 20:17:08.351888 140524514965312 football_env_wrapper.py:84] Episode reward: 0.00 score: [0, 0], steps: 20, FPS: 11.5, gameFPS: 33.1\n"
     ]
    }
   ],
   "source": [
    "# cargar pesos del fichero `checkpoint.pth`\n",
    "agent.qnetwork_local.load_state_dict(torch.load('checkpoint-final.pth'))\n",
    "\n",
    "for i in range(10):\n",
    "    state = env.reset()\n",
    "    for j in range(200):\n",
    "        action = agent.act(state)\n",
    "        state, reward, done, _ = env.step(action)\n",
    "        if done:\n",
    "            break \n",
    "            \n",
    "env.close()"
   ]
  }
 ],
 "metadata": {
  "kernelspec": {
   "display_name": "Python 3",
   "language": "python",
   "name": "python3"
  },
  "language_info": {
   "codemirror_mode": {
    "name": "ipython",
    "version": 3
   },
   "file_extension": ".py",
   "mimetype": "text/x-python",
   "name": "python",
   "nbconvert_exporter": "python",
   "pygments_lexer": "ipython3",
   "version": "3.7.4"
  }
 },
 "nbformat": 4,
 "nbformat_minor": 4
}
