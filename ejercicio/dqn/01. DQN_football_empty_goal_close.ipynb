{
 "cells": [
  {
   "cell_type": "markdown",
   "metadata": {},
   "source": [
    "# Deep Q-Learning para _football_ \n",
    "\n",
    "Autor: *Luciano Gandini*\n",
    "\n",
    "This work is licensed under the [GNU General Public License v3.0](https://choosealicense.com/licenses/gpl-3.0/).\n",
    "\n",
    "Aplicación del algoritmo DQN visto en la ECI 2019 para el entorno [_Football_](https://github.com/google-research/football) escenario `academy_empty_goal_close`. \n",
    "\n",
    "Ejecución local: requiere instalación según [instrucciones](https://github.com/jgromero/eci2019-DRL/blob/master/ejercicio/Instrucciones%20Entorno%20Football.pdf), no se precisa ninguna otra librería fuera de las mencionadas en el instructivo incluyendo el paso 7.\n",
    "\n",
    "<a href=\"http://www.youtube.com/watch?feature=player_embedded&v=F8DcgFDT9sc\" target=\"_blank\"><img src=\"http://img.youtube.com/vi/F8DcgFDT9sc/0.jpg\" \n",
    "alt=\"IMAGE ALT TEXT HERE\" width=\"580\" border=\"3\" /></a> "
   ]
  },
  {
   "cell_type": "markdown",
   "metadata": {},
   "source": [
    "## Iniciar entorno virtual\n",
    "\n",
    "En primer lugar, vamos a crear el ambiente football y el agente, este último tiene tres capas ya que es el mismo utlizado para otros escenarios, si se elimina una capa oculta tardará más en converger (1200 iteraciones).\n",
    "\n",
    "El ambiente no renderizará el juego gráficamente para el entrenamiento, esto lo podremos ver ejecutando las siguientes notebooks."
   ]
  },
  {
   "cell_type": "code",
   "execution_count": 5,
   "metadata": {},
   "outputs": [],
   "source": [
    "import gfootball.env as football_env\n",
    "from dqn_agent_simultaneous_update import Agent\n",
    "from gfootball.env import football_action_set\n",
    "\n",
    "env = football_env.create_environment(\n",
    "    env_name='academy_empty_goal_close', \n",
    "    stacked=False,                           # solo estado, no pixeles \n",
    "    representation='simple115',              # solo estado, no pixeles \n",
    "    rewards='scoring',                       # sin recompensas intermedias, si se desea se pueden agregar checkpoints con 'checkpoints'.\n",
    "    render=False)                            # mostrar graficamente\n",
    "\n",
    "agent = Agent(state_size=115, action_size=21, seed=0)"
   ]
  },
  {
   "cell_type": "markdown",
   "metadata": {},
   "source": [
    "## Logging\n",
    "Deshabilitaremos el logging a nivel WARNING para reducer la verbosidad del entorno _football_."
   ]
  },
  {
   "cell_type": "code",
   "execution_count": 2,
   "metadata": {},
   "outputs": [],
   "source": [
    "import logging, os\n",
    "logging.disable(logging.WARNING)"
   ]
  },
  {
   "cell_type": "markdown",
   "metadata": {},
   "source": [
    "## Algoritmo\n",
    "\n",
    "Como se informo previamente utilizaremos DQN para el agente con actualización simultanea, no se realizaron modificaciones a la implementación vista en clase.\n",
    "\n",
    "Se optó por variar la recompensa del ambiente multiplicandolo por diez y elevando el resultado al cubo, esto no afecta al escenario sin checkpoints pero permite que al usar checkpoints los goles sean más valiosos y mantener una recompensa negativo al obtener un gol en contra."
   ]
  },
  {
   "cell_type": "code",
   "execution_count": 3,
   "metadata": {},
   "outputs": [],
   "source": [
    "import gym\n",
    "import random\n",
    "import torch\n",
    "import numpy as np\n",
    "from collections import deque\n",
    "import matplotlib.pyplot as plt\n",
    "%matplotlib inline"
   ]
  },
  {
   "cell_type": "code",
   "execution_count": 4,
   "metadata": {},
   "outputs": [
    {
     "name": "stdout",
     "output_type": "stream",
     "text": [
      "Episodio 50\tPuntuacion media (50 anteriores): 0.10\n",
      "Episodio 100\tPuntuacion media (50 anteriores): 0.16\n",
      "Episodio 150\tPuntuacion media (50 anteriores): 0.20\n",
      "Episodio 200\tPuntuacion media (50 anteriores): 0.16\n",
      "Episodio 250\tPuntuacion media (50 anteriores): 0.12\n",
      "Episodio 300\tPuntuacion media (50 anteriores): 0.20\n",
      "Episodio 350\tPuntuacion media (50 anteriores): 0.02\n",
      "Episodio 400\tPuntuacion media (50 anteriores): 0.32\n",
      "Episodio 450\tPuntuacion media (50 anteriores): 0.20\n",
      "Episodio 500\tPuntuacion media (50 anteriores): 0.38\n",
      "Episodio 550\tPuntuacion media (50 anteriores): 0.86\n",
      "Episodio 600\tPuntuacion media (50 anteriores): 0.92\n",
      "Episodio 650\tPuntuacion media (50 anteriores): 0.82\n",
      "Episodio 700\tPuntuacion media (50 anteriores): 0.86\n",
      "Episodio 750\tPuntuacion media (50 anteriores): 0.98\n",
      "\n",
      "Problema resuelto en 701 episodios!\tPuntuacion media (ultimos 50): 1.00\n"
     ]
    },
    {
     "data": {
      "image/png": "[encoded data removed]",
      "text/plain": [
       "<Figure size 432x288 with 1 Axes>"
      ]
     },
     "metadata": {
      "needs_background": "light"
     },
     "output_type": "display_data"
    }
   ],
   "source": [
    "def dqn(n_episodes=10000, max_t=1000, eps_start=1.0, eps_end=0.01, eps_decay=0.995):\n",
    "    \"\"\"Deep Q-Learning.\n",
    "    \n",
    "    Params\n",
    "    ======\n",
    "        n_episodes (int): numero maximo de episodios de entrenamiento (n_episodios)\n",
    "        max_t (int): numero maximo de pasos por episodio (n_entrenamiento)\n",
    "        eps_start (float): valor inicial de epsilon\n",
    "        eps_end (float): valor final de epsilon\n",
    "        eps_decay (float): factor de multiplicacion (por episodio) de epsilon\n",
    "    \"\"\"\n",
    "    scores = []                        # puntuaciones de cada episodio\n",
    "    scores_window = deque(maxlen=50)  # puntuaciones de los ultimos 100 episodios\n",
    "    eps = eps_start                    # inicializar epsilon\n",
    "    for i_episode in range(1, n_episodes+1):\n",
    "        state = env.reset()\n",
    "        score = 0\n",
    "        for t in range(max_t):\n",
    "            \n",
    "            # elegir accion At con politica e-greedy\n",
    "            action = agent.act(state, eps)\n",
    "            \n",
    "            # aplicar At y obtener Rt+1, St+1\n",
    "            next_state, reward, done, _ = env.step(action)\n",
    "            \n",
    "            # almacenar <St, At, Rt+1, St+1>\n",
    "            agent.memory.add(state, action, (reward * 10) ** 3, next_state, done)\n",
    "            \n",
    "            # train & update\n",
    "            agent.step(state, action, reward, next_state, done)\n",
    "            \n",
    "            # avanzar estado\n",
    "            state = next_state\n",
    "            score += reward\n",
    "            \n",
    "            if done:\n",
    "                break \n",
    "\n",
    "        scores_window.append(score)       # guardar ultima puntuacion\n",
    "        scores.append(score)              # guardar ultima puntuacion\n",
    "        eps = max(eps_end, eps_decay*eps) # reducir epsilon\n",
    "        \n",
    "        #print('\\rEpisodio {}\\tPuntuacion media (ultimos {:d}): {:.2f}'.format(i_episode, 50, np.mean(scores_window)), end=\"\")\n",
    "        if i_episode % 50 == 0:\n",
    "            print('\\rEpisodio {}\\tPuntuacion media ({:d} anteriores): {:.2f}'.format(i_episode, 50, np.mean(scores_window)))\n",
    "            torch.save(agent.qnetwork_local.state_dict(), 'checkpoint.pth') # guardar pesos de agente entrenado\n",
    "        if np.mean(scores_window)>=1.0:\n",
    "            print('\\nProblema resuelto en {:d} episodios!\\tPuntuacion media (ultimos {:d}): {:.2f}'.format(i_episode-50, 50, np.mean(scores_window)))\n",
    "            torch.save(agent.qnetwork_local.state_dict(), 'checkpoint.pth') # guardar pesos de agente entrenado\n",
    "            break\n",
    "    return scores\n",
    "\n",
    "scores = dqn()\n",
    "\n",
    "# plot the scores\n",
    "fig = plt.figure()\n",
    "ax = fig.add_subplot(111)\n",
    "plt.plot(np.arange(len(scores)), scores)\n",
    "plt.ylabel('Puntuacion')\n",
    "plt.xlabel('Episodio #')\n",
    "plt.show()"
   ]
  },
  {
   "cell_type": "markdown",
   "metadata": {},
   "source": [
    "## Resultado\n",
    "\n",
    "Al ejecutar el algoritmo obtendremos la siguiente salida al pasar varias iteraciones:\n",
    "\n",
    "_Problema resuelto en 701 episodios!\tPuntuacion media (ultimos 50): 1.00_"
   ]
  },
  {
   "cell_type": "markdown",
   "metadata": {},
   "source": [
    "## Reproducir el experimento\n",
    "\n",
    "Se puede ejecutar la notebook corriendo todas las etapas, si se dese observar el avance del entrenamiento durante la ejecución se recomienda ejecutar la notebook *02. DQN_runonly* que utilizara el checkpoint de salida de este algoritmo.\n",
    "\n",
    "Se ha incluido también un checkpoint del resultado obtenido en el experimento con el resultado anterior, para ver al agente entrenado con ese modelo ejecutar la notebook *03. DQN_runonly_final*."
   ]
  }
 ],
 "metadata": {
  "kernelspec": {
   "display_name": "Python 3",
   "language": "python",
   "name": "python3"
  },
  "language_info": {
   "codemirror_mode": {
    "name": "ipython",
    "version": 3
   },
   "file_extension": ".py",
   "mimetype": "text/x-python",
   "name": "python",
   "nbconvert_exporter": "python",
   "pygments_lexer": "ipython3",
   "version": "3.7.4"
  }
 },
 "nbformat": 4,
 "nbformat_minor": 4
}
