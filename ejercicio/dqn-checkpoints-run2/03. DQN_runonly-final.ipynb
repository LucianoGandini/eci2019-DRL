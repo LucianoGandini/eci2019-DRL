{
 "cells": [
  {
   "cell_type": "markdown",
   "metadata": {},
   "source": [
    "# Deep Q-Learning para _footbal_ rendering de agente entrenado\n",
    "\n",
    "Se provee esta notebook para visualizar el agente entrenado previamente cargando los pesos del fichero donde se han almacenado."
   ]
  },
  {
   "cell_type": "code",
   "execution_count": null,
   "metadata": {},
   "outputs": [],
   "source": [
    "import gfootball.env as football_env\n",
    "from dqn_agent_simultaneous_update import Agent\n",
    "from gfootball.env import football_action_set\n",
    "\n",
    "env = football_env.create_environment(\n",
    "    env_name='academy_run_to_score', \n",
    "    stacked=False,                           # solo estado, no pixeles \n",
    "    representation='simple115',              # solo estado, no pixeles \n",
    "    rewards='scoring,checkpoints',           # con recompensas intermedias.\n",
    "    render=True)                            # mostrar graficamente\n",
    "\n",
    "agent = Agent(state_size=115, action_size=21, seed=0)"
   ]
  },
  {
   "cell_type": "code",
   "execution_count": 2,
   "metadata": {},
   "outputs": [],
   "source": [
    "import gym\n",
    "import random\n",
    "import torch\n",
    "import numpy as np\n",
    "from collections import deque\n",
    "import matplotlib.pyplot as plt\n",
    "%matplotlib inline"
   ]
  },
  {
   "cell_type": "code",
   "execution_count": 3,
   "metadata": {},
   "outputs": [
    {
     "name": "stderr",
     "output_type": "stream",
     "text": [
      "WARNING: Logging before flag parsing goes to stderr.\n",
      "I0819 20:27:04.555994 140268423030592 observation_processor.py:350] Dump \"score\": count limit reached / disabled\n",
      "I0819 20:27:04.557231 140268423030592 observation_processor.py:350] Dump \"episode_done\": count limit reached / disabled\n",
      "I0819 20:27:04.557702 140268423030592 football_env_wrapper.py:84] Episode reward: 1.00 score: [1, 0], steps: 74, FPS: 6.0, gameFPS: 29.0\n",
      "I0819 20:27:08.426877 140268423030592 observation_processor.py:350] Dump \"score\": count limit reached / disabled\n",
      "I0819 20:27:08.428016 140268423030592 observation_processor.py:350] Dump \"episode_done\": count limit reached / disabled\n",
      "I0819 20:27:08.428496 140268423030592 football_env_wrapper.py:84] Episode reward: 1.00 score: [1, 0], steps: 75, FPS: 19.4, gameFPS: 28.9\n",
      "I0819 20:27:11.129299 140268423030592 observation_processor.py:350] Dump \"score\": count limit reached / disabled\n",
      "I0819 20:27:11.130429 140268423030592 observation_processor.py:350] Dump \"episode_done\": count limit reached / disabled\n",
      "I0819 20:27:11.130908 140268423030592 football_env_wrapper.py:84] Episode reward: 1.00 score: [1, 0], steps: 38, FPS: 14.1, gameFPS: 26.0\n",
      "I0819 20:27:15.066552 140268423030592 observation_processor.py:350] Dump \"score\": count limit reached / disabled\n",
      "I0819 20:27:15.067597 140268423030592 observation_processor.py:350] Dump \"episode_done\": count limit reached / disabled\n",
      "I0819 20:27:15.068048 140268423030592 football_env_wrapper.py:84] Episode reward: 1.00 score: [1, 0], steps: 77, FPS: 19.6, gameFPS: 29.1\n",
      "I0819 20:27:19.070868 140268423030592 observation_processor.py:350] Dump \"score\": count limit reached / disabled\n",
      "I0819 20:27:19.071966 140268423030592 observation_processor.py:350] Dump \"episode_done\": count limit reached / disabled\n",
      "I0819 20:27:19.072469 140268423030592 football_env_wrapper.py:84] Episode reward: 1.00 score: [1, 0], steps: 78, FPS: 19.5, gameFPS: 29.0\n",
      "I0819 20:27:21.740145 140268423030592 observation_processor.py:350] Dump \"score\": count limit reached / disabled\n",
      "I0819 20:27:21.741151 140268423030592 observation_processor.py:350] Dump \"episode_done\": count limit reached / disabled\n",
      "I0819 20:27:21.741709 140268423030592 football_env_wrapper.py:84] Episode reward: 1.00 score: [1, 0], steps: 37, FPS: 13.9, gameFPS: 25.7\n",
      "I0819 20:27:25.579235 140268423030592 observation_processor.py:350] Dump \"score\": count limit reached / disabled\n",
      "I0819 20:27:25.580261 140268423030592 observation_processor.py:350] Dump \"episode_done\": count limit reached / disabled\n",
      "I0819 20:27:25.580776 140268423030592 football_env_wrapper.py:84] Episode reward: 1.00 score: [1, 0], steps: 73, FPS: 19.0, gameFPS: 28.9\n",
      "I0819 20:27:29.316439 140268423030592 observation_processor.py:350] Dump \"score\": count limit reached / disabled\n",
      "I0819 20:27:29.317506 140268423030592 observation_processor.py:350] Dump \"episode_done\": count limit reached / disabled\n",
      "I0819 20:27:29.318072 140268423030592 football_env_wrapper.py:84] Episode reward: 1.00 score: [1, 0], steps: 70, FPS: 18.7, gameFPS: 28.3\n",
      "I0819 20:27:33.287094 140268423030592 observation_processor.py:350] Dump \"score\": count limit reached / disabled\n",
      "I0819 20:27:33.288123 140268423030592 observation_processor.py:350] Dump \"episode_done\": count limit reached / disabled\n",
      "I0819 20:27:33.288566 140268423030592 football_env_wrapper.py:84] Episode reward: 1.00 score: [1, 0], steps: 75, FPS: 18.9, gameFPS: 28.2\n",
      "I0819 20:27:36.824407 140268423030592 observation_processor.py:350] Dump \"score\": count limit reached / disabled\n",
      "I0819 20:27:36.825397 140268423030592 observation_processor.py:350] Dump \"episode_done\": count limit reached / disabled\n",
      "I0819 20:27:36.825864 140268423030592 football_env_wrapper.py:84] Episode reward: 1.00 score: [1, 0], steps: 75, FPS: 21.2, gameFPS: 32.9\n"
     ]
    }
   ],
   "source": [
    "# cargar pesos del fichero `checkpoint.pth`\n",
    "agent.qnetwork_local.load_state_dict(torch.load('checkpoint-final.pth'))\n",
    "\n",
    "for i in range(10):\n",
    "    state = env.reset()\n",
    "    for j in range(200):\n",
    "        action = agent.act(state)\n",
    "        state, reward, done, _ = env.step(action)\n",
    "        if done:\n",
    "            break \n",
    "            \n",
    "env.close()"
   ]
  }
 ],
 "metadata": {
  "kernelspec": {
   "display_name": "Python 3",
   "language": "python",
   "name": "python3"
  },
  "language_info": {
   "codemirror_mode": {
    "name": "ipython",
    "version": 3
   },
   "file_extension": ".py",
   "mimetype": "text/x-python",
   "name": "python",
   "nbconvert_exporter": "python",
   "pygments_lexer": "ipython3",
   "version": "3.7.4"
  }
 },
 "nbformat": 4,
 "nbformat_minor": 4
}
