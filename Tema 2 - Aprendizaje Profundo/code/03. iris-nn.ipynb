{
 "cells": [
  {
   "cell_type": "markdown",
   "metadata": {},
   "source": [
    "# Clasificación con conjunto de datos _iris_"
   ]
  },
  {
   "cell_type": "markdown",
   "metadata": {},
   "source": [
    "[**Juan Gómez Romero**](https://decsai.ugr.es/~jgomez)  \n",
    "Departamento de Ciencias de la Computación e Inteligencia Artificial  \n",
    "Universidad de Granada  \n",
    "This work is licensed under the [GNU General Public License v3.0](https://choosealicense.com/licenses/gpl-3.0/).\n",
    "\n",
    "---"
   ]
  },
  {
   "cell_type": "markdown",
   "metadata": {},
   "source": [
    "### Activar GPU\n",
    "_Entorno de ejecución > Cambiar tipo de entorno de ejecución_"
   ]
  },
  {
   "cell_type": "code",
   "execution_count": 1,
   "metadata": {
    "colab": {},
    "colab_type": "code",
    "id": "Qkysn597lIqO"
   },
   "outputs": [],
   "source": [
    "import torch\n",
    "device = torch.device('cuda' if torch.cuda.is_available() else 'cpu')"
   ]
  },
  {
   "cell_type": "markdown",
   "metadata": {
    "colab_type": "text",
    "id": "U1Yk6xfcSJeL"
   },
   "source": [
    "## Cargar datos de _iris_\n",
    "Cargamos los datos de [ _iris_](https://scikit-learn.org/stable/auto_examples/datasets/plot_iris_dataset.html) incluidos en el paquete [`scikit-learn`](https://scikit-learn.org/).\n",
    "- features: entrada (150 x 4)\n",
    "- labels: salida (150 x 1)"
   ]
  },
  {
   "cell_type": "code",
   "execution_count": 2,
   "metadata": {
    "colab": {
     "base_uri": "https://localhost:8080/",
     "height": 1000
    },
    "colab_type": "code",
    "executionInfo": {
     "elapsed": 1047,
     "status": "ok",
     "timestamp": 1562371606667,
     "user": {
      "displayName": "Juan Gómez Romero",
      "photoUrl": "https://lh3.googleusercontent.com/--KQpBRYhxXY/AAAAAAAAAAI/AAAAAAAABtE/U-Fw_kyi3OQ/s64/photo.jpg",
      "userId": "14789599014876280017"
     },
     "user_tz": -120
    },
    "id": "GjDKnKfDKE5Y",
    "outputId": "11c6b264-bc2b-461a-e516-360d710f45d4"
   },
   "outputs": [
    {
     "name": "stdout",
     "output_type": "stream",
     "text": [
      ".. _iris_dataset:\n",
      "\n",
      "Iris plants dataset\n",
      "--------------------\n",
      "\n",
      "**Data Set Characteristics:**\n",
      "\n",
      "    :Number of Instances: 150 (50 in each of three classes)\n",
      "    :Number of Attributes: 4 numeric, predictive attributes and the class\n",
      "    :Attribute Information:\n",
      "        - sepal length in cm\n",
      "        - sepal width in cm\n",
      "        - petal length in cm\n",
      "        - petal width in cm\n",
      "        - class:\n",
      "                - Iris-Setosa\n",
      "                - Iris-Versicolour\n",
      "                - Iris-Virginica\n",
      "                \n",
      "    :Summary Statistics:\n",
      "\n",
      "    ============== ==== ==== ======= ===== ====================\n",
      "                    Min  Max   Mean    SD   Class Correlation\n",
      "    ============== ==== ==== ======= ===== ====================\n",
      "    sepal length:   4.3  7.9   5.84   0.83    0.7826\n",
      "    sepal width:    2.0  4.4   3.05   0.43   -0.4194\n",
      "    petal length:   1.0  6.9   3.76   1.76    0.9490  (high!)\n",
      "    petal width:    0.1  2.5   1.20   0.76    0.9565  (high!)\n",
      "    ============== ==== ==== ======= ===== ====================\n",
      "\n",
      "    :Missing Attribute Values: None\n",
      "    :Class Distribution: 33.3% for each of 3 classes.\n",
      "    :Creator: R.A. Fisher\n",
      "    :Donor: Michael Marshall (MARSHALL%PLU@io.arc.nasa.gov)\n",
      "    :Date: July, 1988\n",
      "\n",
      "The famous Iris database, first used by Sir R.A. Fisher. The dataset is taken\n",
      "from Fisher's paper. Note that it's the same as in R, but not as in the UCI\n",
      "Machine Learning Repository, which has two wrong data points.\n",
      "\n",
      "This is perhaps the best known database to be found in the\n",
      "pattern recognition literature.  Fisher's paper is a classic in the field and\n",
      "is referenced frequently to this day.  (See Duda & Hart, for example.)  The\n",
      "data set contains 3 classes of 50 instances each, where each class refers to a\n",
      "type of iris plant.  One class is linearly separable from the other 2; the\n",
      "latter are NOT linearly separable from each other.\n",
      "\n",
      ".. topic:: References\n",
      "\n",
      "   - Fisher, R.A. \"The use of multiple measurements in taxonomic problems\"\n",
      "     Annual Eugenics, 7, Part II, 179-188 (1936); also in \"Contributions to\n",
      "     Mathematical Statistics\" (John Wiley, NY, 1950).\n",
      "   - Duda, R.O., & Hart, P.E. (1973) Pattern Classification and Scene Analysis.\n",
      "     (Q327.D83) John Wiley & Sons.  ISBN 0-471-22361-1.  See page 218.\n",
      "   - Dasarathy, B.V. (1980) \"Nosing Around the Neighborhood: A New System\n",
      "     Structure and Classification Rule for Recognition in Partially Exposed\n",
      "     Environments\".  IEEE Transactions on Pattern Analysis and Machine\n",
      "     Intelligence, Vol. PAMI-2, No. 1, 67-71.\n",
      "   - Gates, G.W. (1972) \"The Reduced Nearest Neighbor Rule\".  IEEE Transactions\n",
      "     on Information Theory, May 1972, 431-433.\n",
      "   - See also: 1988 MLC Proceedings, 54-64.  Cheeseman et al\"s AUTOCLASS II\n",
      "     conceptual clustering system finds 3 classes in the data.\n",
      "   - Many, many more ...\n"
     ]
    }
   ],
   "source": [
    "from sklearn import datasets\n",
    "data = datasets.load_iris()\n",
    "\n",
    "features = data.data[:, :]\n",
    "labels   = data.target\n",
    "\n",
    "print(data['DESCR'])"
   ]
  },
  {
   "cell_type": "markdown",
   "metadata": {
    "colab_type": "text",
    "id": "ylOXZGjLWmSK"
   },
   "source": [
    "Visualizamos los datos. Las clases de _iris_ son fácilmente separables con las variables `petal_length` y `petal_width`."
   ]
  },
  {
   "cell_type": "code",
   "execution_count": 3,
   "metadata": {
    "colab": {
     "base_uri": "https://localhost:8080/",
     "height": 590
    },
    "colab_type": "code",
    "executionInfo": {
     "elapsed": 1851,
     "status": "ok",
     "timestamp": 1562371607478,
     "user": {
      "displayName": "Juan Gómez Romero",
      "photoUrl": "https://lh3.googleusercontent.com/--KQpBRYhxXY/AAAAAAAAAAI/AAAAAAAABtE/U-Fw_kyi3OQ/s64/photo.jpg",
      "userId": "14789599014876280017"
     },
     "user_tz": -120
    },
    "id": "2_Ek2bvGKoBc",
    "outputId": "c2904779-c60c-4c54-bb4e-351902bfc013"
   },
   "outputs": [
    {
     "data": {
      "text/plain": [
       "<Figure size 640x480 with 1 Axes>"
      ]
     },
     "metadata": {},
     "output_type": "display_data"
    },
    {
     "data": {
      "text/plain": [
       "<Figure size 640x480 with 1 Axes>"
      ]
     },
     "metadata": {},
     "output_type": "display_data"
    }
   ],
   "source": [
    "import matplotlib.pyplot as plt\n",
    "plt.title('Iris dataset ')\n",
    "plt.xlabel('Sepal length')\n",
    "plt.ylabel('Sepal width')\n",
    "plt.scatter(features[:, 0], features[:, 1], c = labels)\n",
    "plt.show()\n",
    "\n",
    "plt.title('Iris dataset')\n",
    "plt.xlabel('Petal length')\n",
    "plt.ylabel('Petal width')\n",
    "plt.scatter(features[:, 2], features[:, 3], c = labels)\n",
    "plt.show()"
   ]
  },
  {
   "cell_type": "markdown",
   "metadata": {
    "colab_type": "text",
    "id": "0inZbd22WkZk"
   },
   "source": [
    "## Definir arquitectura\n",
    "Definimos la arquitectura de la red neuronal:\n",
    "- Entrada: 4 neuronas\n",
    "- Oculta: 2 x 16 neuronas (*sigmoid*)\n",
    "- Salida: 3 neuronas (*softmax*)\n",
    "\n",
    "<img src=\"https://github.com/jgromero/eci2019-DRL/blob/master/Tema%202%20-%20Aprendizaje%20Profundo/code/iris-nn.png?raw=true\" width=\"500\">"
   ]
  },
  {
   "cell_type": "code",
   "execution_count": 4,
   "metadata": {
    "colab": {
     "base_uri": "https://localhost:8080/",
     "height": 153
    },
    "colab_type": "code",
    "executionInfo": {
     "elapsed": 5436,
     "status": "ok",
     "timestamp": 1562371611071,
     "user": {
      "displayName": "Juan Gómez Romero",
      "photoUrl": "https://lh3.googleusercontent.com/--KQpBRYhxXY/AAAAAAAAAAI/AAAAAAAABtE/U-Fw_kyi3OQ/s64/photo.jpg",
      "userId": "14789599014876280017"
     },
     "user_tz": -120
    },
    "id": "fl-gGSOZXRuV",
    "outputId": "644dad65-5642-45ab-c499-edeea0048a80"
   },
   "outputs": [
    {
     "data": {
      "text/plain": [
       "Sequential(\n",
       "  (0): Linear(in_features=4, out_features=16, bias=True)\n",
       "  (1): ReLU()\n",
       "  (2): Linear(in_features=16, out_features=16, bias=True)\n",
       "  (3): ReLU()\n",
       "  (4): Linear(in_features=16, out_features=3, bias=True)\n",
       "  (5): Softmax()\n",
       ")"
      ]
     },
     "execution_count": 4,
     "metadata": {},
     "output_type": "execute_result"
    }
   ],
   "source": [
    "import torch.nn as nn\n",
    "\n",
    "torch.manual_seed(1)\n",
    "\n",
    "net = nn.Sequential(\n",
    "    nn.Linear(in_features = features.shape[1], out_features = 16),\n",
    "    nn.ReLU(),\n",
    "    nn.Linear(in_features = 16, out_features = 16),\n",
    "    nn.ReLU(),\n",
    "    nn.Linear(in_features = 16, out_features = 3),\n",
    "    nn.Softmax(dim = 0)\n",
    ")\n",
    "net = net.to(device)\n",
    "\n",
    "net"
   ]
  },
  {
   "cell_type": "markdown",
   "metadata": {
    "colab_type": "text",
    "id": "cKggqxfxela9"
   },
   "source": [
    "Calcular salida para una entrada del conjunto del entrenamiento."
   ]
  },
  {
   "cell_type": "code",
   "execution_count": 5,
   "metadata": {
    "colab": {
     "base_uri": "https://localhost:8080/",
     "height": 68
    },
    "colab_type": "code",
    "executionInfo": {
     "elapsed": 5431,
     "status": "ok",
     "timestamp": 1562371611071,
     "user": {
      "displayName": "Juan Gómez Romero",
      "photoUrl": "https://lh3.googleusercontent.com/--KQpBRYhxXY/AAAAAAAAAAI/AAAAAAAABtE/U-Fw_kyi3OQ/s64/photo.jpg",
      "userId": "14789599014876280017"
     },
     "user_tz": -120
    },
    "id": "WAZ_Vu0metlj",
    "outputId": "7d783aea-491a-479e-9e7f-3d41001f3838"
   },
   "outputs": [
    {
     "name": "stdout",
     "output_type": "stream",
     "text": [
      "Predicción:  tensor([0.2294, 0.3464, 0.4241], grad_fn=<SoftmaxBackward>)\n",
      "Predicción clase:  tensor(2)\n",
      "Salida esperada:  0\n"
     ]
    }
   ],
   "source": [
    "input = torch.tensor(features[0, :], dtype=torch.float32, device=device)\n",
    "output = net(input)\n",
    "print(\"Predicción: \" , output)\n",
    "print(\"Predicción clase: \" , torch.argmax(output))\n",
    "print(\"Salida esperada: \", labels[0])"
   ]
  },
  {
   "cell_type": "markdown",
   "metadata": {
    "colab_type": "text",
    "id": "d_OI3PfFcBp0"
   },
   "source": [
    "## Entrenar red"
   ]
  },
  {
   "cell_type": "markdown",
   "metadata": {
    "colab_type": "text",
    "id": "h8sCWWh7ghhx"
   },
   "source": [
    "Preparamos los datos al formato esperado por la red y separamos los conjuntos de entrenamiento y test."
   ]
  },
  {
   "cell_type": "code",
   "execution_count": 6,
   "metadata": {
    "colab": {},
    "colab_type": "code",
    "id": "vf--erZehRIH"
   },
   "outputs": [],
   "source": [
    "import torch.utils.data\n",
    "\n",
    "x_dataset = torch.tensor(features, dtype = torch.float32)\n",
    "y_dataset = torch.tensor(labels, dtype = torch.long)\n",
    "dataset   = torch.utils.data.TensorDataset(x_dataset, y_dataset)\n",
    "\n",
    "perc_split = 0.8\n",
    "n_train = round(perc_split * len(features))\n",
    "n_val   = len(features) - n_train\n",
    "train_set, val_set = torch.utils.data.random_split(dataset, [n_train, n_val])"
   ]
  },
  {
   "cell_type": "markdown",
   "metadata": {
    "colab_type": "text",
    "id": "-vKF-NV2gGpX"
   },
   "source": [
    "Definimos la función de pérdida y el algoritmo de optimización que queremos utilizar sobre los parámetros de la red."
   ]
  },
  {
   "cell_type": "code",
   "execution_count": 7,
   "metadata": {
    "colab": {},
    "colab_type": "code",
    "id": "wA2AwV8ccFKm"
   },
   "outputs": [],
   "source": [
    "import torch.optim\n",
    "\n",
    "criterion = nn.CrossEntropyLoss()\n",
    "optimizer = torch.optim.SGD(net.parameters(), lr=0.01)"
   ]
  },
  {
   "cell_type": "markdown",
   "metadata": {
    "colab_type": "text",
    "id": "q9HH5huHhRr-"
   },
   "source": [
    "Lanzamos el proceso de entrenamiento."
   ]
  },
  {
   "cell_type": "code",
   "execution_count": 8,
   "metadata": {
    "colab": {
     "base_uri": "https://localhost:8080/",
     "height": 442
    },
    "colab_type": "code",
    "executionInfo": {
     "elapsed": 14819,
     "status": "ok",
     "timestamp": 1562371620473,
     "user": {
      "displayName": "Juan Gómez Romero",
      "photoUrl": "https://lh3.googleusercontent.com/--KQpBRYhxXY/AAAAAAAAAAI/AAAAAAAABtE/U-Fw_kyi3OQ/s64/photo.jpg",
      "userId": "14789599014876280017"
     },
     "user_tz": -120
    },
    "id": "V19L6L3AcQWZ",
    "outputId": "3a22e1cc-42c2-4948-8c5a-df324a58ee82"
   },
   "outputs": [
    {
     "name": "stdout",
     "output_type": "stream",
     "text": [
      "Epoch [   0/5000], epoch loss: 0.066\n",
      "Epoch [ 100/5000], epoch loss: 0.065\n",
      "Epoch [ 200/5000], epoch loss: 0.065\n",
      "Epoch [ 300/5000], epoch loss: 0.065\n",
      "Epoch [ 400/5000], epoch loss: 0.065\n",
      "Epoch [ 500/5000], epoch loss: 0.065\n",
      "Epoch [ 600/5000], epoch loss: 0.064\n",
      "Epoch [ 700/5000], epoch loss: 0.064\n",
      "Epoch [ 800/5000], epoch loss: 0.064\n",
      "Epoch [ 900/5000], epoch loss: 0.064\n",
      "Epoch [1000/5000], epoch loss: 0.064\n",
      "Epoch [1100/5000], epoch loss: 0.064\n",
      "Epoch [1200/5000], epoch loss: 0.064\n",
      "Epoch [1300/5000], epoch loss: 0.064\n",
      "Epoch [1400/5000], epoch loss: 0.064\n",
      "Epoch [1500/5000], epoch loss: 0.064\n",
      "Epoch [1600/5000], epoch loss: 0.064\n",
      "Epoch [1700/5000], epoch loss: 0.064\n",
      "Epoch [1800/5000], epoch loss: 0.064\n",
      "Epoch [1900/5000], epoch loss: 0.064\n",
      "Epoch [2000/5000], epoch loss: 0.064\n",
      "Epoch [2100/5000], epoch loss: 0.064\n",
      "Epoch [2200/5000], epoch loss: 0.064\n",
      "Epoch [2300/5000], epoch loss: 0.064\n",
      "Epoch [2400/5000], epoch loss: 0.064\n",
      "Epoch [2500/5000], epoch loss: 0.064\n",
      "Epoch [2600/5000], epoch loss: 0.064\n",
      "Epoch [2700/5000], epoch loss: 0.064\n",
      "Epoch [2800/5000], epoch loss: 0.064\n",
      "Epoch [2900/5000], epoch loss: 0.064\n",
      "Epoch [3000/5000], epoch loss: 0.064\n",
      "Epoch [3100/5000], epoch loss: 0.064\n",
      "Epoch [3200/5000], epoch loss: 0.064\n",
      "Epoch [3300/5000], epoch loss: 0.064\n",
      "Epoch [3400/5000], epoch loss: 0.064\n",
      "Epoch [3500/5000], epoch loss: 0.064\n",
      "Epoch [3600/5000], epoch loss: 0.064\n",
      "Epoch [3700/5000], epoch loss: 0.064\n",
      "Epoch [3800/5000], epoch loss: 0.064\n",
      "Epoch [3900/5000], epoch loss: 0.064\n",
      "Epoch [4000/5000], epoch loss: 0.064\n",
      "Epoch [4100/5000], epoch loss: 0.064\n",
      "Epoch [4200/5000], epoch loss: 0.064\n",
      "Epoch [4300/5000], epoch loss: 0.064\n",
      "Epoch [4400/5000], epoch loss: 0.064\n",
      "Epoch [4500/5000], epoch loss: 0.064\n",
      "Epoch [4600/5000], epoch loss: 0.064\n",
      "Epoch [4700/5000], epoch loss: 0.064\n",
      "Epoch [4800/5000], epoch loss: 0.064\n",
      "Epoch [4900/5000], epoch loss: 0.064\n"
     ]
    }
   ],
   "source": [
    "batch_size = 50\n",
    "train_loader = torch.utils.data.DataLoader(train_set, batch_size=batch_size, shuffle=True)\n",
    "\n",
    "n_epochs = 5000\n",
    "\n",
    "for epoch in range(n_epochs):  \n",
    "    epoch_loss = 0.0\n",
    "    \n",
    "    for (i, data) in enumerate(train_loader, 0):\n",
    "        x, y = data\n",
    "    \n",
    "        x = x.to(device)\n",
    "        y = y.to(device)\n",
    "    \n",
    "        optimizer.zero_grad()       # reset gradientes\n",
    "                \n",
    "        y_hat = net(x)              # calcular salida forward\n",
    "        loss = criterion(y_hat, y)  # calcular pérdida\n",
    "        loss.backward()             # propagar error hacia atrás\n",
    "        optimizer.step()            # modificar pesos\n",
    "    \n",
    "        epoch_loss += loss.item()        \n",
    "    \n",
    "    if(epoch % 100 == 0):\n",
    "        print(\"Epoch [%4d/%4d], epoch loss: %.3f\" % (epoch, n_epochs, float(epoch_loss) / batch_size))"
   ]
  },
  {
   "cell_type": "markdown",
   "metadata": {
    "colab_type": "text",
    "id": "7J0DmNWlZStR"
   },
   "source": [
    "## Validación\n",
    "Calculamos la precisión del modelo sobre los datos de validación."
   ]
  },
  {
   "cell_type": "code",
   "execution_count": 9,
   "metadata": {
    "colab": {
     "base_uri": "https://localhost:8080/",
     "height": 34
    },
    "colab_type": "code",
    "executionInfo": {
     "elapsed": 14815,
     "status": "ok",
     "timestamp": 1562371620474,
     "user": {
      "displayName": "Juan Gómez Romero",
      "photoUrl": "https://lh3.googleusercontent.com/--KQpBRYhxXY/AAAAAAAAAAI/AAAAAAAABtE/U-Fw_kyi3OQ/s64/photo.jpg",
      "userId": "14789599014876280017"
     },
     "user_tz": -120
    },
    "id": "xoEuPhA7MtSW",
    "outputId": "d8d6a7f0-0c61-49c7-d638-2c6a28714a68"
   },
   "outputs": [
    {
     "name": "stdout",
     "output_type": "stream",
     "text": [
      "Precisión (validación): 0.87\n"
     ]
    }
   ],
   "source": [
    "val_loader = torch.utils.data.DataLoader(val_set, batch_size=100, shuffle=False)\n",
    "\n",
    "correct = 0\n",
    "total = 0\n",
    "\n",
    "with torch.no_grad():        # no se calculan gradientes, solo paso forward\n",
    "    for x, y in val_loader:\n",
    "        x = x.to(device)\n",
    "        y = y.to(device)\n",
    "    \n",
    "        y_hat = net(x)\n",
    "        _, predicted = torch.max(y_hat, dim = 1)    \n",
    "        total = total + y.shape[0]\n",
    "        correct += int((predicted == y).sum())\n",
    "\n",
    "    print(\"Precisión (validación): %.2f\" % (correct / total))"
   ]
  },
  {
   "cell_type": "markdown",
   "metadata": {},
   "source": [
    "Podemos seguir variando los valores iniciales de los pesos, los hiperparámetros y el proceso de entrenamiento para conseguir valores de precisión mayores:\n",
    "- `torch.manual_seed`\n",
    "- `batch_size`\n",
    "- `n_epochs`\n",
    "- `nn.CrossEntropyLoss`\n",
    "- `torch.optim.SGD`\n",
    "\n",
    "**Atención**: Esto implica utilizar los datos validación para tomar decisiones de mejora la red, por lo que ya no se podría considerar un conjunto independiente. En estos casos, suele reservarse un conjunto de datos adicional, denominado _test_."
   ]
  },
  {
   "cell_type": "markdown",
   "metadata": {},
   "source": [
    "---\n",
    "\n",
    "### EJERCICIO\n",
    "\n",
    "¿Podrías extender este código para otro problema de clasificación de los incluidos en \n",
    "en el paquete [`scikit-learn`](https://scikit-learn.org/). Por ejemplo, [cancer](https://scikit-learn.org/stable/modules/generated/sklearn.datasets.load_breast_cancer.html).\n",
    "\n",
    "\n",
    "---"
   ]
  },
  {
   "cell_type": "code",
   "execution_count": 10,
   "metadata": {},
   "outputs": [
    {
     "name": "stdout",
     "output_type": "stream",
     "text": [
      ".. _breast_cancer_dataset:\n",
      "\n",
      "Breast cancer wisconsin (diagnostic) dataset\n",
      "--------------------------------------------\n",
      "\n",
      "**Data Set Characteristics:**\n",
      "\n",
      "    :Number of Instances: 569\n",
      "\n",
      "    :Number of Attributes: 30 numeric, predictive attributes and the class\n",
      "\n",
      "    :Attribute Information:\n",
      "        - radius (mean of distances from center to points on the perimeter)\n",
      "        - texture (standard deviation of gray-scale values)\n",
      "        - perimeter\n",
      "        - area\n",
      "        - smoothness (local variation in radius lengths)\n",
      "        - compactness (perimeter^2 / area - 1.0)\n",
      "        - concavity (severity of concave portions of the contour)\n",
      "        - concave points (number of concave portions of the contour)\n",
      "        - symmetry \n",
      "        - fractal dimension (\"coastline approximation\" - 1)\n",
      "\n",
      "        The mean, standard error, and \"worst\" or largest (mean of the three\n",
      "        largest values) of these features were computed for each image,\n",
      "        resulting in 30 features.  For instance, field 3 is Mean Radius, field\n",
      "        13 is Radius SE, field 23 is Worst Radius.\n",
      "\n",
      "        - class:\n",
      "                - WDBC-Malignant\n",
      "                - WDBC-Benign\n",
      "\n",
      "    :Summary Statistics:\n",
      "\n",
      "    ===================================== ====== ======\n",
      "                                           Min    Max\n",
      "    ===================================== ====== ======\n",
      "    radius (mean):                        6.981  28.11\n",
      "    texture (mean):                       9.71   39.28\n",
      "    perimeter (mean):                     43.79  188.5\n",
      "    area (mean):                          143.5  2501.0\n",
      "    smoothness (mean):                    0.053  0.163\n",
      "    compactness (mean):                   0.019  0.345\n",
      "    concavity (mean):                     0.0    0.427\n",
      "    concave points (mean):                0.0    0.201\n",
      "    symmetry (mean):                      0.106  0.304\n",
      "    fractal dimension (mean):             0.05   0.097\n",
      "    radius (standard error):              0.112  2.873\n",
      "    texture (standard error):             0.36   4.885\n",
      "    perimeter (standard error):           0.757  21.98\n",
      "    area (standard error):                6.802  542.2\n",
      "    smoothness (standard error):          0.002  0.031\n",
      "    compactness (standard error):         0.002  0.135\n",
      "    concavity (standard error):           0.0    0.396\n",
      "    concave points (standard error):      0.0    0.053\n",
      "    symmetry (standard error):            0.008  0.079\n",
      "    fractal dimension (standard error):   0.001  0.03\n",
      "    radius (worst):                       7.93   36.04\n",
      "    texture (worst):                      12.02  49.54\n",
      "    perimeter (worst):                    50.41  251.2\n",
      "    area (worst):                         185.2  4254.0\n",
      "    smoothness (worst):                   0.071  0.223\n",
      "    compactness (worst):                  0.027  1.058\n",
      "    concavity (worst):                    0.0    1.252\n",
      "    concave points (worst):               0.0    0.291\n",
      "    symmetry (worst):                     0.156  0.664\n",
      "    fractal dimension (worst):            0.055  0.208\n",
      "    ===================================== ====== ======\n",
      "\n",
      "    :Missing Attribute Values: None\n",
      "\n",
      "    :Class Distribution: 212 - Malignant, 357 - Benign\n",
      "\n",
      "    :Creator:  Dr. William H. Wolberg, W. Nick Street, Olvi L. Mangasarian\n",
      "\n",
      "    :Donor: Nick Street\n",
      "\n",
      "    :Date: November, 1995\n",
      "\n",
      "This is a copy of UCI ML Breast Cancer Wisconsin (Diagnostic) datasets.\n",
      "https://goo.gl/U2Uwz2\n",
      "\n",
      "Features are computed from a digitized image of a fine needle\n",
      "aspirate (FNA) of a breast mass.  They describe\n",
      "characteristics of the cell nuclei present in the image.\n",
      "\n",
      "Separating plane described above was obtained using\n",
      "Multisurface Method-Tree (MSM-T) [K. P. Bennett, \"Decision Tree\n",
      "Construction Via Linear Programming.\" Proceedings of the 4th\n",
      "Midwest Artificial Intelligence and Cognitive Science Society,\n",
      "pp. 97-101, 1992], a classification method which uses linear\n",
      "programming to construct a decision tree.  Relevant features\n",
      "were selected using an exhaustive search in the space of 1-4\n",
      "features and 1-3 separating planes.\n",
      "\n",
      "The actual linear program used to obtain the separating plane\n",
      "in the 3-dimensional space is that described in:\n",
      "[K. P. Bennett and O. L. Mangasarian: \"Robust Linear\n",
      "Programming Discrimination of Two Linearly Inseparable Sets\",\n",
      "Optimization Methods and Software 1, 1992, 23-34].\n",
      "\n",
      "This database is also available through the UW CS ftp server:\n",
      "\n",
      "ftp ftp.cs.wisc.edu\n",
      "cd math-prog/cpo-dataset/machine-learn/WDBC/\n",
      "\n",
      ".. topic:: References\n",
      "\n",
      "   - W.N. Street, W.H. Wolberg and O.L. Mangasarian. Nuclear feature extraction \n",
      "     for breast tumor diagnosis. IS&T/SPIE 1993 International Symposium on \n",
      "     Electronic Imaging: Science and Technology, volume 1905, pages 861-870,\n",
      "     San Jose, CA, 1993.\n",
      "   - O.L. Mangasarian, W.N. Street and W.H. Wolberg. Breast cancer diagnosis and \n",
      "     prognosis via linear programming. Operations Research, 43(4), pages 570-577, \n",
      "     July-August 1995.\n",
      "   - W.H. Wolberg, W.N. Street, and O.L. Mangasarian. Machine learning techniques\n",
      "     to diagnose breast cancer from fine-needle aspirates. Cancer Letters 77 (1994) \n",
      "     163-171.\n"
     ]
    }
   ],
   "source": [
    "data_cancer = datasets.load_breast_cancer()\n",
    "\n",
    "features_cancer = data_cancer.data[:, :]\n",
    "labels_cancer   = data_cancer.target\n",
    "\n",
    "print(data_cancer['DESCR'])"
   ]
  },
  {
   "cell_type": "code",
   "execution_count": 22,
   "metadata": {},
   "outputs": [
    {
     "data": {
      "text/plain": [
       "Sequential(\n",
       "  (0): Linear(in_features=30, out_features=64, bias=True)\n",
       "  (1): ReLU()\n",
       "  (2): Linear(in_features=64, out_features=64, bias=True)\n",
       "  (3): ReLU()\n",
       "  (4): Linear(in_features=64, out_features=2, bias=True)\n",
       "  (5): Softmax()\n",
       ")"
      ]
     },
     "execution_count": 22,
     "metadata": {},
     "output_type": "execute_result"
    }
   ],
   "source": [
    "torch.manual_seed(1)\n",
    "\n",
    "net_cancer = nn.Sequential(\n",
    "    nn.Linear(in_features = features_cancer.shape[1], out_features = 64),\n",
    "    nn.ReLU(),\n",
    "    nn.Linear(in_features = 64, out_features = 64),\n",
    "    nn.ReLU(),\n",
    "    nn.Linear(in_features = 64, out_features = 2),\n",
    "    nn.ReLU(),\n",
    "    nn.Linear(in_features = 64, out_features = 2),\n",
    "    nn.Softmax(dim = 0)\n",
    ")\n",
    "net_cancer = net_cancer.to(device)\n",
    "\n",
    "net_cancer"
   ]
  },
  {
   "cell_type": "code",
   "execution_count": 14,
   "metadata": {},
   "outputs": [],
   "source": [
    "#Entrenar red cancer\n",
    "\n",
    "x_dataset_cancer = torch.tensor(features_cancer, dtype = torch.float32)\n",
    "y_dataset_cancer = torch.tensor(labels_cancer, dtype = torch.long)\n",
    "dataset_cancer   = torch.utils.data.TensorDataset(x_dataset_cancer, y_dataset_cancer)\n",
    "\n",
    "perc_split = 0.8\n",
    "n_train = round(perc_split * len(features_cancer))\n",
    "n_val   = len(features_cancer) - n_train\n",
    "train_set, val_set = torch.utils.data.random_split(dataset_cancer, [n_train, n_val])"
   ]
  },
  {
   "cell_type": "code",
   "execution_count": 17,
   "metadata": {},
   "outputs": [],
   "source": [
    "\n",
    "criterion = nn.CrossEntropyLoss()\n",
    "optimizer = torch.optim.SGD(net_cancer.parameters(), lr=0.001)"
   ]
  },
  {
   "cell_type": "code",
   "execution_count": 19,
   "metadata": {},
   "outputs": [
    {
     "name": "stdout",
     "output_type": "stream",
     "text": [
      "Epoch [   0/5000], epoch loss: 0.148\n",
      "Epoch [ 100/5000], epoch loss: 0.148\n",
      "Epoch [ 200/5000], epoch loss: 0.139\n",
      "Epoch [ 300/5000], epoch loss: 0.139\n",
      "Epoch [ 400/5000], epoch loss: 0.139\n",
      "Epoch [ 500/5000], epoch loss: 0.139\n",
      "Epoch [ 600/5000], epoch loss: 0.139\n",
      "Epoch [ 700/5000], epoch loss: 0.139\n",
      "Epoch [ 800/5000], epoch loss: 0.139\n",
      "Epoch [ 900/5000], epoch loss: 0.139\n",
      "Epoch [1000/5000], epoch loss: 0.139\n",
      "Epoch [1100/5000], epoch loss: 0.139\n",
      "Epoch [1200/5000], epoch loss: 0.139\n",
      "Epoch [1300/5000], epoch loss: 0.139\n",
      "Epoch [1400/5000], epoch loss: 0.139\n",
      "Epoch [1500/5000], epoch loss: 0.138\n",
      "Epoch [1600/5000], epoch loss: 0.139\n",
      "Epoch [1700/5000], epoch loss: 0.139\n",
      "Epoch [1800/5000], epoch loss: 0.139\n",
      "Epoch [1900/5000], epoch loss: 0.139\n",
      "Epoch [2000/5000], epoch loss: 0.139\n",
      "Epoch [2100/5000], epoch loss: 0.139\n",
      "Epoch [2200/5000], epoch loss: 0.139\n",
      "Epoch [2300/5000], epoch loss: 0.139\n",
      "Epoch [2400/5000], epoch loss: 0.139\n",
      "Epoch [2500/5000], epoch loss: 0.139\n",
      "Epoch [2600/5000], epoch loss: 0.139\n",
      "Epoch [2700/5000], epoch loss: 0.139\n",
      "Epoch [2800/5000], epoch loss: 0.139\n",
      "Epoch [2900/5000], epoch loss: 0.139\n",
      "Epoch [3000/5000], epoch loss: 0.139\n",
      "Epoch [3100/5000], epoch loss: 0.139\n",
      "Epoch [3200/5000], epoch loss: 0.139\n",
      "Epoch [3300/5000], epoch loss: 0.139\n",
      "Epoch [3400/5000], epoch loss: 0.139\n",
      "Epoch [3500/5000], epoch loss: 0.139\n",
      "Epoch [3600/5000], epoch loss: 0.139\n",
      "Epoch [3700/5000], epoch loss: 0.139\n",
      "Epoch [3800/5000], epoch loss: 0.139\n",
      "Epoch [3900/5000], epoch loss: 0.139\n",
      "Epoch [4000/5000], epoch loss: 0.139\n",
      "Epoch [4100/5000], epoch loss: 0.139\n",
      "Epoch [4200/5000], epoch loss: 0.139\n",
      "Epoch [4300/5000], epoch loss: 0.139\n",
      "Epoch [4400/5000], epoch loss: 0.137\n",
      "Epoch [4500/5000], epoch loss: 0.139\n",
      "Epoch [4600/5000], epoch loss: 0.139\n",
      "Epoch [4700/5000], epoch loss: 0.139\n",
      "Epoch [4800/5000], epoch loss: 0.137\n",
      "Epoch [4900/5000], epoch loss: 0.139\n"
     ]
    }
   ],
   "source": [
    "batch_size = 50\n",
    "train_loader = torch.utils.data.DataLoader(train_set, batch_size=batch_size, shuffle=True)\n",
    "\n",
    "n_epochs = 5000\n",
    "\n",
    "for epoch in range(n_epochs):  \n",
    "    epoch_loss = 0.0\n",
    "    \n",
    "    for (i, data) in enumerate(train_loader, 0):\n",
    "        x, y = data\n",
    "    \n",
    "        x = x.to(device)\n",
    "        y = y.to(device)\n",
    "    \n",
    "        optimizer.zero_grad()       # reset gradientes\n",
    "                \n",
    "        y_hat = net_cancer(x)              # calcular salida forward\n",
    "        loss = criterion(y_hat, y)  # calcular pérdida\n",
    "        loss.backward()             # propagar error hacia atrás\n",
    "        optimizer.step()            # modificar pesos\n",
    "    \n",
    "        epoch_loss += loss.item()        \n",
    "    \n",
    "    if(epoch % 100 == 0):\n",
    "        print(\"Epoch [%4d/%4d], epoch loss: %.3f\" % (epoch, n_epochs, float(epoch_loss) / batch_size))"
   ]
  },
  {
   "cell_type": "code",
   "execution_count": 21,
   "metadata": {},
   "outputs": [
    {
     "name": "stdout",
     "output_type": "stream",
     "text": [
      "Precisión (validación): 0.61\n"
     ]
    }
   ],
   "source": [
    "#Validacion\n",
    "val_loader = torch.utils.data.DataLoader(val_set, batch_size=100, shuffle=False)\n",
    "\n",
    "correct = 0\n",
    "total = 0\n",
    "\n",
    "with torch.no_grad():        # no se calculan gradientes, solo paso forward\n",
    "    for x, y in val_loader:\n",
    "        x = x.to(device)\n",
    "        y = y.to(device)\n",
    "    \n",
    "        y_hat = net_cancer(x)\n",
    "        _, predicted = torch.max(y_hat, dim = 1)    \n",
    "        total = total + y.shape[0]\n",
    "        correct += int((predicted == y).sum())\n",
    "\n",
    "    print(\"Precisión (validación): %.2f\" % (correct / total))"
   ]
  },
  {
   "cell_type": "code",
   "execution_count": null,
   "metadata": {},
   "outputs": [],
   "source": []
  }
 ],
 "metadata": {
  "accelerator": "GPU",
  "colab": {
   "collapsed_sections": [],
   "name": "iris-nn.ipynb",
   "provenance": [],
   "version": "0.3.2"
  },
  "kernelspec": {
   "display_name": "Python 3",
   "language": "python",
   "name": "python3"
  },
  "language_info": {
   "codemirror_mode": {
    "name": "ipython",
    "version": 3
   },
   "file_extension": ".py",
   "mimetype": "text/x-python",
   "name": "python",
   "nbconvert_exporter": "python",
   "pygments_lexer": "ipython3",
   "version": "3.7.3"
  }
 },
 "nbformat": 4,
 "nbformat_minor": 4
}
